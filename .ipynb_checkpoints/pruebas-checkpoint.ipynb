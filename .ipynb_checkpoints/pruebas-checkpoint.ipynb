{
 "cells": [
  {
   "cell_type": "code",
   "execution_count": null,
   "id": "5394c09a",
   "metadata": {},
   "outputs": [],
   "source": [
    "def extraer_año_y_mes_de_case_number(fecha_fea):\n",
    "    import re\n",
    "    \n",
    "    if re.search(\"\\d{3,4}\",fecha_fea) != None :\n",
    "        year  = re.search(\"\\d{3,4}\" , fecha_fea ).group()\n",
    "    else :\n",
    "        year = \"XXXX\"\n",
    "        \n",
    "    if re.search(\"-\\w\\w\\w-\",fecha_fea) != None :\n",
    "        month = re.search(\"-\\w\\w\\w-\", fecha_fea ).group().replace(\"-\",\"\")\n",
    "    else :\n",
    "        month = \"XXX\"\n",
    "    \n",
    "    if re.search(\"\\d{1,2}-\",fecha_fea) != None :\n",
    "        day = re.search(\"\\d{1,2}-\",fecha_fea).group().replace(\"-\",\"\")\n",
    "    else :\n",
    "        day = \"XX\"\n",
    "    \n",
    "    date = year + \"-\" + month + \"-\" + day\n",
    "    #print(fecha_fea, \" ---> \" , date )\n",
    "    return date"
   ]
  },
  {
   "cell_type": "code",
   "execution_count": null,
   "id": "bb5319bc",
   "metadata": {},
   "outputs": [],
   "source": [
    "def extraer_fecha_de_date(fecha_fea):\n",
    "    import re\n",
    "    \n",
    "    if re.search(\"\\d{4}\",fecha_fea) != None :\n",
    "        year  = re.search(\"\\d{4}\" , fecha_fea ).group()\n",
    "    else :\n",
    "        year = \"XXXX\"\n",
    "        \n",
    "    if re.search(\"-\\w\\w\\w-\",fecha_fea) != None :\n",
    "        month = re.search(\"-\\w\\w\\w-\", fecha_fea ).group().replace(\"-\",\"\")\n",
    "    else :\n",
    "        month = \"XXX\"\n",
    "    \n",
    "    if re.search(\"\\d{1,2}-\",fecha_fea) != None :\n",
    "        day = re.search(\"\\d{1,2}-\",fecha_fea).group().replace(\"-\",\"\")\n",
    "    else :\n",
    "        day = \"XX\"\n",
    "    \n",
    "    date = year + \"-\" + month + \"-\" + day\n",
    "    #print(fecha_fea, \" ---> \" , date )\n",
    "    return date\n",
    "\n",
    "\n"
   ]
  },
  {
   "cell_type": "code",
   "execution_count": null,
   "id": "3b4b934a",
   "metadata": {},
   "outputs": [],
   "source": [
    "def extraer_año_de_date(fecha_fea):\n",
    "    import re\n",
    "    \n",
    "    if re.search(\"\\d{4}\",fecha_fea) != None :\n",
    "        return re.search(\"\\d{4}\" , fecha_fea ).group()\n",
    "    else :\n",
    "        print(fecha_fea)\n",
    "        return None "
   ]
  },
  {
   "cell_type": "code",
   "execution_count": null,
   "id": "f530071d",
   "metadata": {},
   "outputs": [],
   "source": [
    "def extraer_año_de_case_number_1(fecha_fea):\n",
    "    \n",
    "    \n",
    "    return year"
   ]
  },
  {
   "cell_type": "code",
   "execution_count": null,
   "id": "3ed9035a",
   "metadata": {},
   "outputs": [],
   "source": [
    "df1 = df1.assign( año   = df1.date.apply(extraer_año_de_date))\n",
    "df1"
   ]
  },
  {
   "cell_type": "code",
   "execution_count": null,
   "id": "391d0c42",
   "metadata": {},
   "outputs": [],
   "source": [
    "df1[df1.ano_4_digitos == False]"
   ]
  },
  {
   "cell_type": "code",
   "execution_count": null,
   "id": "f65de7bb",
   "metadata": {},
   "outputs": [],
   "source": [
    "df1[df1.año.isnull() ]"
   ]
  },
  {
   "cell_type": "code",
   "execution_count": null,
   "id": "fc51f5f5",
   "metadata": {},
   "outputs": [],
   "source": [
    "#def extraer_fecha_de_date(fecha_fea):\n",
    "#    import re\n",
    "    \n",
    "#    if re.search(\"\\d{1,2}-\\w\\w\\w-\\d{4}\",fecha_fea) != None :\n",
    "#        date  = re.search(\"\\d{1,2}-\\w\\w\\w-\\d{4}\",fecha_fea).group()\n",
    "#        year  = re.search(\"\\d{4}\"   , date ).group()\n",
    "#        month = re.search(\"\\w\\w\\w\"  , date ).group()\n",
    "#        day   = re.search(\"\\d{1,2}\"   , date ).group()\n",
    "#        if len(day) == 1 :\n",
    "#            day = \"0\"+day\n",
    "#    else :\n",
    "#        year = \"XXXX\"\n",
    "#        month = \"XXX\"\n",
    "#        day = \"XX\""
   ]
  },
  {
   "cell_type": "code",
   "execution_count": null,
   "id": "87b8e293",
   "metadata": {},
   "outputs": [],
   "source": [
    "def encuentra_el_mes(str) :\n",
    "    import re\n",
    "    meses = [\"jan\",\"feb\",\"mar\",\"apr\",\"may\",\"jun\",\"jul\",\"aug\",\"sep\",\"oct\",\"nov\",\"dec\"]\n",
    "    \n",
    "    if re.findall(\"\\w\\w\\w\",str) != None :\n",
    "        matches_encontrados = re.findall(\"\\w\\w\\w\",str)\n",
    "        print(matches_encontrados)\n",
    "        print(type(matches_encontrados))\n",
    "        for i in matches_encontrados :\n",
    "            if i.lower() in meses :\n",
    "                print(f\"{i} encontrado\")\n",
    "                return (i)\n",
    "            else:\n",
    "                return None\n",
    "    else :\n",
    "        return None\n",
    "        \n"
   ]
  },
  {
   "cell_type": "code",
   "execution_count": null,
   "id": "987540b2",
   "metadata": {},
   "outputs": [],
   "source": [
    "encuentra_el_mes(\"jan\")"
   ]
  },
  {
   "cell_type": "code",
   "execution_count": null,
   "id": "481ccc48",
   "metadata": {},
   "outputs": [],
   "source": [
    "encuentra_el_mes(\"janaprl\")"
   ]
  },
  {
   "cell_type": "code",
   "execution_count": null,
   "id": "f78e8a79",
   "metadata": {},
   "outputs": [],
   "source": [
    "encuentra_el_mes(\"prjddadnaprl\")"
   ]
  },
  {
   "cell_type": "code",
   "execution_count": null,
   "id": "9df00580",
   "metadata": {},
   "outputs": [],
   "source": [
    "df1 = df1.assign( fecha_corregida   = df1.date.apply(extraer_fecha_de_date))\n",
    "df1"
   ]
  },
  {
   "cell_type": "code",
   "execution_count": null,
   "id": "732bb6de",
   "metadata": {},
   "outputs": [],
   "source": [
    "df1[df1.fecha_corregida == \"XXXX-XX-XX\"].sample(25)"
   ]
  },
  {
   "cell_type": "code",
   "execution_count": null,
   "id": "ae681682",
   "metadata": {},
   "outputs": [],
   "source": [
    "def commprobar_fecha_ano_4_digitos(fecha_fea):\n",
    "    import re\n",
    "    if re.search(\"\\d{4}\",fecha_fea) != None :\n",
    "        return True\n",
    "    else :\n",
    "        return False"
   ]
  },
  {
   "cell_type": "code",
   "execution_count": null,
   "id": "4d859083",
   "metadata": {},
   "outputs": [],
   "source": [
    "df1 = df1.assign( ano_4_digitos   = df1.date.apply(commprobar_fecha_ano_4_digitos))"
   ]
  },
  {
   "cell_type": "code",
   "execution_count": null,
   "id": "e1151a07",
   "metadata": {},
   "outputs": [],
   "source": [
    "df1[df1.ano_4_digitos == False]"
   ]
  },
  {
   "cell_type": "code",
   "execution_count": null,
   "id": "669805fc",
   "metadata": {},
   "outputs": [],
   "source": []
  },
  {
   "cell_type": "code",
   "execution_count": null,
   "id": "a21fed52",
   "metadata": {},
   "outputs": [],
   "source": [
    "df1.drop(['mes'], axis=1, inplace = True)\n",
    "df1"
   ]
  },
  {
   "cell_type": "code",
   "execution_count": null,
   "id": "3676876f",
   "metadata": {},
   "outputs": [],
   "source": []
  },
  {
   "cell_type": "code",
   "execution_count": null,
   "id": "07c57a8d",
   "metadata": {},
   "outputs": [],
   "source": []
  }
 ],
 "metadata": {
  "kernelspec": {
   "display_name": "ironhack",
   "language": "python",
   "name": "ironhack"
  },
  "language_info": {
   "codemirror_mode": {
    "name": "ipython",
    "version": 3
   },
   "file_extension": ".py",
   "mimetype": "text/x-python",
   "name": "python",
   "nbconvert_exporter": "python",
   "pygments_lexer": "ipython3",
   "version": "3.8.5"
  }
 },
 "nbformat": 4,
 "nbformat_minor": 5
}
